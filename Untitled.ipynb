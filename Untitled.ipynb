{
 "cells": [
  {
   "cell_type": "code",
   "execution_count": 5,
   "id": "5eeb5ac6-8131-45df-a595-b48db58d8799",
   "metadata": {},
   "outputs": [
    {
     "name": "stdout",
     "output_type": "stream",
     "text": [
      "Found 6391 images belonging to 93 classes.\n",
      "Found 887 images belonging to 93 classes.\n"
     ]
    }
   ],
   "source": [
    "import tensorflow as tf\n",
    "from tensorflow.keras.preprocessing.image import ImageDataGenerator\n",
    "\n",
    "# Set up directories\n",
    "train_dir = 'C:/Users/sanch/OneDrive/Desktop/Project/Dog/train'\n",
    "validation_dir = 'C:/Users/sanch/OneDrive/Desktop/Project/Dog/test'\n",
    "\n",
    "# Image data generators\n",
    "train_datagen = ImageDataGenerator(rescale=1./255, shear_range=0.2, zoom_range=0.2, horizontal_flip=True)\n",
    "validation_datagen = ImageDataGenerator(rescale=1./255)\n",
    "\n",
    "train_generator = train_datagen.flow_from_directory(train_dir, target_size=(224, 224), batch_size=32, class_mode='categorical')\n",
    "validation_generator = validation_datagen.flow_from_directory(validation_dir, target_size=(224, 224), batch_size=32, class_mode='categorical')\n"
   ]
  },
  {
   "cell_type": "code",
   "execution_count": 1,
   "id": "a0548b6b-1eb3-4386-b485-a21e1db9d2ad",
   "metadata": {},
   "outputs": [
    {
     "name": "stdout",
     "output_type": "stream",
     "text": [
      "WARNING:tensorflow:From C:\\Users\\sanch\\AppData\\Local\\Programs\\Python\\Python311\\Lib\\site-packages\\keras\\src\\losses.py:2976: The name tf.losses.sparse_softmax_cross_entropy is deprecated. Please use tf.compat.v1.losses.sparse_softmax_cross_entropy instead.\n",
      "\n",
      "Number of classes: 93\n",
      "WARNING:tensorflow:From C:\\Users\\sanch\\AppData\\Local\\Programs\\Python\\Python311\\Lib\\site-packages\\keras\\src\\backend.py:1398: The name tf.executing_eagerly_outside_functions is deprecated. Please use tf.compat.v1.executing_eagerly_outside_functions instead.\n",
      "\n",
      "WARNING:tensorflow:From C:\\Users\\sanch\\AppData\\Local\\Programs\\Python\\Python311\\Lib\\site-packages\\keras\\src\\layers\\normalization\\batch_normalization.py:979: The name tf.nn.fused_batch_norm is deprecated. Please use tf.compat.v1.nn.fused_batch_norm instead.\n",
      "\n",
      "WARNING:tensorflow:From C:\\Users\\sanch\\AppData\\Local\\Programs\\Python\\Python311\\Lib\\site-packages\\keras\\src\\optimizers\\__init__.py:309: The name tf.train.Optimizer is deprecated. Please use tf.compat.v1.train.Optimizer instead.\n",
      "\n",
      "Found 6391 images belonging to 93 classes.\n",
      "Found 762 images belonging to 93 classes.\n",
      "Epoch 1/10\n",
      "WARNING:tensorflow:From C:\\Users\\sanch\\AppData\\Local\\Programs\\Python\\Python311\\Lib\\site-packages\\keras\\src\\utils\\tf_utils.py:492: The name tf.ragged.RaggedTensorValue is deprecated. Please use tf.compat.v1.ragged.RaggedTensorValue instead.\n",
      "\n",
      "WARNING:tensorflow:From C:\\Users\\sanch\\AppData\\Local\\Programs\\Python\\Python311\\Lib\\site-packages\\keras\\src\\engine\\base_layer_utils.py:384: The name tf.executing_eagerly_outside_functions is deprecated. Please use tf.compat.v1.executing_eagerly_outside_functions instead.\n",
      "\n",
      "200/200 [==============================] - 786s 4s/step - loss: 4.5187 - accuracy: 0.0197 - val_loss: 4.5290 - val_accuracy: 0.0157\n",
      "Epoch 2/10\n",
      "200/200 [==============================] - 713s 4s/step - loss: 4.1500 - accuracy: 0.0482 - val_loss: 5.3344 - val_accuracy: 0.0157\n",
      "Epoch 3/10\n",
      "200/200 [==============================] - 819s 4s/step - loss: 3.7899 - accuracy: 0.0867 - val_loss: 7.1728 - val_accuracy: 0.0131\n",
      "Epoch 4/10\n",
      "200/200 [==============================] - 5947s 30s/step - loss: 3.4998 - accuracy: 0.1260 - val_loss: 5.8555 - val_accuracy: 0.0236\n",
      "Epoch 5/10\n",
      "200/200 [==============================] - 601s 3s/step - loss: 3.2332 - accuracy: 0.1673 - val_loss: 6.2387 - val_accuracy: 0.0420\n",
      "Epoch 6/10\n",
      "200/200 [==============================] - 622s 3s/step - loss: 2.9866 - accuracy: 0.2162 - val_loss: 4.1636 - val_accuracy: 0.1129\n",
      "Epoch 7/10\n",
      "200/200 [==============================] - 602s 3s/step - loss: 2.7551 - accuracy: 0.2643 - val_loss: 3.5114 - val_accuracy: 0.1640\n",
      "Epoch 8/10\n",
      "200/200 [==============================] - 591s 3s/step - loss: 2.5473 - accuracy: 0.3001 - val_loss: 4.9887 - val_accuracy: 0.0853\n",
      "Epoch 9/10\n",
      "200/200 [==============================] - 579s 3s/step - loss: 2.3591 - accuracy: 0.3517 - val_loss: 3.0875 - val_accuracy: 0.2270\n",
      "Epoch 10/10\n",
      "200/200 [==============================] - 613s 3s/step - loss: 2.1318 - accuracy: 0.4043 - val_loss: 4.3384 - val_accuracy: 0.1391\n"
     ]
    },
    {
     "name": "stderr",
     "output_type": "stream",
     "text": [
      "C:\\Users\\sanch\\AppData\\Local\\Programs\\Python\\Python311\\Lib\\site-packages\\keras\\src\\engine\\training.py:3103: UserWarning: You are saving your model as an HDF5 file via `model.save()`. This file format is considered legacy. We recommend using instead the native Keras format, e.g. `model.save('my_model.keras')`.\n",
      "  saving_api.save_model(\n"
     ]
    }
   ],
   "source": [
    "import tensorflow as tf\n",
    "from tensorflow.keras.applications import ResNet50\n",
    "from tensorflow.keras.models import Sequential\n",
    "from tensorflow.keras.layers import Dense, GlobalAveragePooling2D\n",
    "import os\n",
    "\n",
    "# Set up directories (update these paths according to your setup)\n",
    "train_dir = 'C:/Users/sanch/OneDrive/Desktop/Project/Dog/train'\n",
    "validation_dir = 'C:/Users/sanch/OneDrive/Desktop/Project/Dog/val'\n",
    "\n",
    "# Determine the number of classes\n",
    "num_classes = len(os.listdir(train_dir))\n",
    "print(f\"Number of classes: {num_classes}\")\n",
    "\n",
    "# Load the pre-trained ResNet50 model without the top layer\n",
    "base_model = ResNet50(weights='imagenet', include_top=False, input_shape=(224, 224, 3))\n",
    "\n",
    "# Add new top layers for our specific task\n",
    "model = Sequential([\n",
    "    base_model,\n",
    "    GlobalAveragePooling2D(),\n",
    "    Dense(1024, activation='relu'),\n",
    "    Dense(num_classes, activation='softmax')  # Use the determined number of classes\n",
    "])\n",
    "\n",
    "# Compile the model\n",
    "model.compile(optimizer='adam', loss='categorical_crossentropy', metrics=['accuracy'])\n",
    "\n",
    "# Image data generators\n",
    "train_datagen = tf.keras.preprocessing.image.ImageDataGenerator(rescale=1./255, shear_range=0.2, zoom_range=0.2, horizontal_flip=True)\n",
    "validation_datagen = tf.keras.preprocessing.image.ImageDataGenerator(rescale=1./255)\n",
    "\n",
    "train_generator = train_datagen.flow_from_directory(train_dir, target_size=(224, 224), batch_size=32, class_mode='categorical')\n",
    "validation_generator = validation_datagen.flow_from_directory(validation_dir, target_size=(224, 224), batch_size=32, class_mode='categorical')\n",
    "\n",
    "# Train the model\n",
    "model.fit(train_generator, validation_data=validation_generator, epochs=10)\n",
    "\n",
    "# Save the model\n",
    "model.save('dog_breed_model.h5')\n"
   ]
  },
  {
   "cell_type": "code",
   "execution_count": 2,
   "id": "c15f47f7-7040-49e3-85f2-5c1549a4c33c",
   "metadata": {},
   "outputs": [
    {
     "name": "stdout",
     "output_type": "stream",
     "text": [
      "Found 6391 images belonging to 93 classes.\n"
     ]
    }
   ],
   "source": [
    "# generate_class_indices.py\n",
    "from tensorflow.keras.preprocessing.image import ImageDataGenerator\n",
    "import json\n",
    "\n",
    "train_dir = 'C:/Users/sanch/OneDrive/Desktop/Project/Dog/train'  # Update this path to your training directory\n",
    "\n",
    "train_datagen = ImageDataGenerator(rescale=1./255, shear_range=0.2, zoom_range=0.2, horizontal_flip=True)\n",
    "train_generator = train_datagen.flow_from_directory(train_dir, target_size=(224, 224), batch_size=32, class_mode='categorical')\n",
    "\n",
    "class_indices = train_generator.class_indices\n",
    "class_indices = {v: k for k, v in class_indices.items()}  # Invert the dictionary\n",
    "\n",
    "with open('class_indices.json', 'w') as f:\n",
    "    json.dump(class_indices, f)\n"
   ]
  },
  {
   "cell_type": "code",
   "execution_count": null,
   "id": "fb40e6ed-cf8e-4e01-9495-828b0f1b8d8e",
   "metadata": {},
   "outputs": [],
   "source": []
  }
 ],
 "metadata": {
  "kernelspec": {
   "display_name": "Python 3 (ipykernel)",
   "language": "python",
   "name": "python3"
  },
  "language_info": {
   "codemirror_mode": {
    "name": "ipython",
    "version": 3
   },
   "file_extension": ".py",
   "mimetype": "text/x-python",
   "name": "python",
   "nbconvert_exporter": "python",
   "pygments_lexer": "ipython3",
   "version": "3.11.4"
  }
 },
 "nbformat": 4,
 "nbformat_minor": 5
}
